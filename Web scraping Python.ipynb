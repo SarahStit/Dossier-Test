{
 "cells": [
  {
   "cell_type": "markdown",
   "metadata": {},
   "source": [
    "# WEB SCRAPING PYTHON"
   ]
  },
  {
   "cell_type": "markdown",
   "metadata": {},
   "source": [
    "On terminal\n",
    "install requests ()\n",
    "and install BeautifulSoup (to pars the information in the website)"
   ]
  },
  {
   "cell_type": "code",
   "execution_count": null,
   "metadata": {},
   "outputs": [],
   "source": [
    "pip install requests\n",
    "pip install bs4"
   ]
  },
  {
   "cell_type": "code",
   "execution_count": 399,
   "metadata": {},
   "outputs": [],
   "source": [
    "import requests\n",
    "from bs4 import BeautifulSoup"
   ]
  },
  {
   "cell_type": "code",
   "execution_count": 400,
   "metadata": {},
   "outputs": [],
   "source": [
    "#Using the request module, we use the \"get\" function to access t he webpage\n",
    "scraping = requests.get(\"https://garypeppergirl.com/category/travel\")"
   ]
  },
  {
   "cell_type": "code",
   "execution_count": 401,
   "metadata": {},
   "outputs": [
    {
     "name": "stdout",
     "output_type": "stream",
     "text": [
      "200\n"
     ]
    }
   ],
   "source": [
    "# Print the status Code to let us know if the webpage is accessible\n",
    "#https status code: 404 error; 200 mean it is accessible\n",
    "print(scraping.status_code)"
   ]
  },
  {
   "cell_type": "code",
   "execution_count": 402,
   "metadata": {},
   "outputs": [
    {
     "name": "stdout",
     "output_type": "stream",
     "text": [
      "{'Date': 'Thu, 25 Jun 2020 13:33:18 GMT', 'Content-Type': 'text/html; charset=UTF-8', 'Transfer-Encoding': 'chunked', 'Connection': 'keep-alive', 'Set-Cookie': '__cfduid=d03cc990eb7bd5545909feb8cdb2f3d391593091998; expires=Sat, 25-Jul-20 13:33:18 GMT; path=/; domain=.garypeppergirl.com; HttpOnly; SameSite=Lax', 'Vary': 'Accept-Encoding,Cookie', 'Last-Modified': 'Fri, 17 May 2019 16:16:28 GMT', 'Cache-Control': 'max-age=0', 'Expires': 'Thu, 25 Jun 2020 13:33:18 GMT', 'X-Powered-By': 'PleskLin', 'MS-Author-Via': 'DAV', 'CF-Cache-Status': 'DYNAMIC', 'cf-request-id': '038d47db020000ee791aabe200000001', 'Expect-CT': 'max-age=604800, report-uri=\"https://report-uri.cloudflare.com/cdn-cgi/beacon/expect-ct\"', 'Server': 'cloudflare', 'CF-RAY': '5a8f0f3e6f52ee79-CDG', 'Content-Encoding': 'gzip'}\n"
     ]
    }
   ],
   "source": [
    "#Print the https headers\n",
    "print(scraping.headers)"
   ]
  },
  {
   "cell_type": "code",
   "execution_count": 383,
   "metadata": {},
   "outputs": [
    {
     "name": "stdout",
     "output_type": "stream",
     "text": [
      "b'<!DOCTYPE html>\\n<!--[if lt IE 7]>      <html class=\"no-js lt-ie9 lt-ie8 lt-ie7\"> <![endif]-->\\n<!--[if IE 7]>         <html class=\"no-js lt-ie9 lt-ie8\"> <![endif]-->\\n<!--[if IE 8]>         <html class=\"no-js lt-ie9\"> <![endif]-->\\n<!--[if gt IE 8]><!--> <html class=\"no-js\"> <!--<![endif]-->\\n<head>\\n<meta charset=\"utf-8\">\\n<meta http-equiv=\"X-UA-Compatible\" content=\"IE=edge,chrome=1\">\\n<title>Travel &laquo;  Gary Pepper Girl</title>\\n<meta name=\"title\" content=\"Travel &laquo;  | Gary Pepper Girl\">\\n<meta name=\"description\" content=\"Gary Pepper Girl | A fashion, travel and lifestyle site dedicated to capturing beauty from the simple to the serene.\">\\n<meta name=\"viewport\" content=\"width=device-width, initial-scale=1.0\">\\n<meta name=\"google-site-verification\" content=\"GnGw-3MRRvRzdwbYr5dhIAe2sE5v4oHpPrFVJYxly_E\" />\\n<link rel=\"icon\" href=\"https://garypeppergirl.com/favicon.ico\" type=\"image/x-icon\">\\n<link rel=\"stylesheet\" href=\"https://garypeppergirl.com/wp-content/themes/garypepper/css/normalize.css\">\\n<link rel=\"stylesheet\" href=\"https://garypeppergirl.com/wp-content/themes/garypepper/css/main.css\">\\n<link rel=\"stylesheet\" href=\"https://garypeppergirl.com/wp-content/themes/garypepper/style.css\">\\n<link rel=\"stylesheet\" href=\"https://garypeppergirl.com/wp-content/themes/garypepper/css/jquery.fancybox.css\">\\n<script src=\"https://garypeppergirl.com/wp-content/themes/garypepper/js/modernizr-2.6.2.min.js\"></script>\\n<script type=\"text/javascript\" src=\"//use.typekit.net/shi4yyx.js\"></script>\\n<script type=\"text/javascript\">try{Typekit.load();}catch(e){}</script>\\n<link rel=\"pingback\" href=\"https://garypeppergirl.com/xmlrpc.php\" />\\n<link href=\"//netdna.bootstrapcdn.com/font-awesome/4.1.0/css/font-awesome.min.css\" rel=\"stylesheet\">\\n<link rel=\"alternate\" type=\"application/rss+xml\" title=\"Gary Pepper Girl &raquo; Feed\" href=\"https://garypeppergirl.com/feed\" />\\n<link rel=\"alternate\" type=\"application/rss+xml\" title=\"Gary Pepper Girl &raquo; Comments Feed\" href=\"https://garypeppergirl.com/comments/feed\" />\\n<link rel=\"alternate\" type=\"application/rss+xml\" title=\"Gary Pepper Girl &raquo; Travel Category Feed\" href=\"https://garypeppergirl.com/category/travel/feed\" />\\n<script type=\"text/javascript\">\\n\\t\\t\\twindow._wpemojiSettings = {\"baseUrl\":\"https:\\\\/\\\\/s.w.org\\\\/images\\\\/core\\\\/emoji\\\\/72x72\\\\/\",\"ext\":\".png\",\"source\":{\"concatemoji\":\"http:\\\\/\\\\/garypeppergirl.com\\\\/wp-includes\\\\/js\\\\/wp-emoji-release.min.js?ver=4.5.17\"}};\\n\\t\\t\\t!function(a,b,c){function d(a){var c,d,e,f=b.createElement(\"canvas\"),g=f.getContext&&f.getContext(\"2d\"),h=String.fromCharCode;if(!g||!g.fillText)return!1;switch(g.textBaseline=\"top\",g.font=\"600 32px Arial\",a){case\"flag\":return g.fillText(h(55356,56806,55356,56826),0,0),f.toDataURL().length>3e3;case\"diversity\":return g.fillText(h(55356,57221),0,0),c=g.getImageData(16,16,1,1).data,d=c[0]+\",\"+c[1]+\",\"+c[2]+\",\"+c[3],g.fillText(h(55356,57221,55356,57343),0,0),c=g.getImageData(16,16,1,1).data,e=c[0]+\",\"+c[1]+\",\"+c[2]+\",\"+c[3],d!==e;case\"simple\":return g.fillText(h(55357,56835),0,0),0!==g.getImageData(16,16,1,1).data[0];case\"unicode8\":return g.fillText(h(55356,57135),0,0),0!==g.getImageData(16,16,1,1).data[0]}return!1}function e(a){var c=b.createElement(\"script\");c.src=a,c.type=\"text/javascript\",b.getElementsByTagName(\"head\")[0].appendChild(c)}var f,g,h,i;for(i=Array(\"simple\",\"flag\",\"unicode8\",\"diversity\"),c.supports={everything:!0,everythingExceptFlag:!0},h=0;h<i.length;h++)c.supports[i[h]]=d(i[h]),c.supports.everything=c.supports.everything&&c.supports[i[h]],\"flag\"!==i[h]&&(c.supports.everythingExceptFlag=c.supports.everythingExceptFlag&&c.supports[i[h]]);c.supports.everythingExceptFlag=c.supports.everythingExceptFlag&&!c.supports.flag,c.DOMReady=!1,c.readyCallback=function(){c.DOMReady=!0},c.supports.everything||(g=function(){c.readyCallback()},b.addEventListener?(b.addEventListener(\"DOMContentLoaded\",g,!1),a.addEventListener(\"load\",g,!1)):(a.attachEvent(\"onload\",g),b.attachEvent(\"onreadystatechange\",function(){\"complete\"===b.readyState&&c.readyCallback()})),f=c.source||{},f.concatemoji?e(f.concatemoji):f.wpemoji&&f.twemoji&&(e(f.twemoji),e(f.wpemoji)))}(window,document,window._wpemojiSettings);\\n\\t\\t</script>\\n<style type=\"text/css\">\\nimg.wp-smiley,\\nimg.emoji {\\n\\tdisplay: inline !important;\\n\\tborder: none !important;\\n\\tbox-shadow: none !important;\\n\\theight: 1em !important;\\n\\twidth: 1em !important;\\n\\tmargin: 0 .07em !important;\\n\\tvertical-align: -0.1em !important;\\n\\tbackground: none !important;\\n\\tpadding: 0 !important;\\n}\\n</style>\\n<link rel=\\'stylesheet\\' id=\\'wpba_front_end_styles-css\\' href=\"https://garypeppergirl.com/wp-content/plugins/wp-better-attachments/assets/css/wpba-frontend.css?ver=1.3.11\" type=\\'text/css\\' media=\\'all\\' />\\n<link rel=\\'stylesheet\\' id=\\'simple-instagram-plugin-styles-css\\' href=\"https://garypeppergirl.com/wp-content/plugins/simple-instagram/public/assets/css/public.css?ver=1.0.0\" type=\\'text/css\\' media=\\'all\\' />\\n<script type=\\'text/javascript\\' src=\"https://garypeppergirl.com/wp-content/plugins/wp-retina-2x/js/picturefill.min.js?ver=3.0.2\"></script>\\n<link rel=\\'https://api.w.org/\\' href=\"https://garypeppergirl.com/wp-json/\" />\\n<link rel=\"EditURI\" type=\"application/rsd+xml\" title=\"RSD\" href=\"https://garypeppergirl.com/xmlrpc.php?rsd\" />\\n<link rel=\"wlwmanifest\" type=\"application/wlwmanifest+xml\" href=\"https://garypeppergirl.com/wp-includes/wlwmanifest.xml\" />\\n<meta name=\"generator\" content=\"WordPress 4.5.17\" />\\n\\n<style type=\"text/css\">\\n.vvqbox { display: block; max-width: 100%; visibility: visible !important; margin: 10px auto; } .vvqbox img { max-width: 100%; height: 100%; } .vvqbox object { max-width: 100%; } \\n</style>\\n<script type=\"text/javascript\">\\r\\n// <![CDATA[\\r\\n\\tvar vvqflashvars = {};\\r\\n\\tvar vvqparams = { wmode: \"opaque\", allowfullscreen: \"true\", allowscriptaccess: \"always\" };\\r\\n\\tvar vvqattributes = {};\\r\\n\\tvar vvqexpressinstall = \"http://garypeppergirl.com/wp-content/plugins/vipers-video-quicktags/resources/expressinstall.swf\";\\r\\n// ]]>\\r\\n</script>\\n</head>\\n<body class=\"archive category category-travel category-22\">\\n<div id=\"header\">\\n<div id=\"header-inner\">\\n<div id=\"logo\">\\n<h1><a href=\"https://garypeppergirl.com/\"><i class=\"icon-garypepper\"></i></a></h1>\\n</div>\\n<div id=\"navigation\">\\n<ul>\\n<li class=\"parent\"><a href=\"#\">Categories</a>\\n<ul class=\"widemenu\">\\n<li><a href=\"https://garypeppergirl.com/category/outfit\">Outfit</a></li>\\n<li><a href=\"https://garypeppergirl.com/category/travel\">Travel</a></li>\\n<li><a href=\"https://garypeppergirl.com/category/editorial\">Editorial</a></li>\\n<li><a href=\"https://garypeppergirl.com/category/fashion-week-2\">Fashion Week</a></li>\\n<li><a href=\"https://garypeppergirl.com/category/beauty\">Beauty</a></li>\\n<li><a href=\"https://garypeppergirl.com/category/design\">Design</a></li>\\n<li><a href=\"https://garypeppergirl.com/category/shopping\">Shopping</a></li>\\n<li><a href=\"https://garypeppergirl.com/category/personal\">Personal</a></li>\\n<li><a href=\"https://garypeppergirl.com/category/video\">Video</a></li>\\n</ul>\\n</li>\\n<li class=\"parent\"><a href=\"#\">Travels</a>\\n<ul class=\"widemenu\">\\n<li><a href=\"https://garypeppergirl.com/category/australia\">australia</a></li>\\n<li><a href=\"https://garypeppergirl.com/category/china\">China</a></li>\\n<li><a href=\"https://garypeppergirl.com/category/croatia\">Croatia</a></li>\\n<li><a href=\"https://garypeppergirl.com/category/england\">England</a></li>\\n<li><a href=\"https://garypeppergirl.com/category/france-2\">France</a></li>\\n<li><a href=\"https://garypeppergirl.com/category/greece\">Greece</a></li>\\n<li><a href=\"https://garypeppergirl.com/category/hong-kong-2\">Hong Kong</a></li>\\n<li><a href=\"https://garypeppergirl.com/category/iceland-2\">Iceland</a></li>\\n<li><a href=\"https://garypeppergirl.com/category/italy-2\">Italy</a></li>\\n<li><a href=\"https://garypeppergirl.com/category/japan-2\">Japan</a></li>\\n<li><a href=\"https://garypeppergirl.com/category/maldives\">Maldives</a></li>\\n<li><a href=\"https://garypeppergirl.com/category/new-zealand-2\">New Zealand</a></li>\\n<li><a href=\"https://garypeppergirl.com/category/norway-2\">Norway</a></li>\\n<li><a href=\"https://garypeppergirl.com/category/singapore\">Singapore</a></li>\\n<li><a href=\"https://garypeppergirl.com/category/spain-2\">Spain</a></li>\\n<li><a href=\"https://garypeppergirl.com/category/switzerland\">Switzerland</a></li>\\n<li><a href=\"https://garypeppergirl.com/category/turkey\">Turkey</a></li>\\n<li><a href=\"https://garypeppergirl.com/category/united-arab-emirates\">UAE</a></li>\\n<li><a href=\"https://garypeppergirl.com/category/united-states\">United States</a></li>\\n</ul>\\n</li>\\n<li><a href=\"https://garypeppergirl.com/shop\">Shop</a>\\n</li>\\n<li class=\"parent\"><a href=\"https://garypeppergirl.com/about\">About</a>\\n<ul><li><a href=\"https://garypeppergirl.com/about\">About</a></li><li><a href=\"https://garypeppergirl.com/outfits\">Outfits</a></li><li><a href=\"https://garypeppergirl.com/press/print-2\">Press</a></li><li><a href=\"https://garypeppergirl.com/contact\">Contact</a></li></ul>\\n</li>\\n</ul>\\n</div>\\n<div id=\"mobile-menu\">\\n<nav id=\"menu\">\\n <ul>\\n<li class=\"label\">\\n<a href=\"#open\" class=\"subparent\">Categories</a>\\n<ul>\\n<li><a href=\"https://garypeppergirl.com/category/outfit\">Outfit</a></li>\\n<li><a href=\"https://garypeppergirl.com/category/travel\">Travel</a></li>\\n<li><a href=\"https://garypeppergirl.com/category/editorial\">Editorial</a></li>\\n<li><a href=\"https://garypeppergirl.com/category/fashion-week-2\">Fashion Week</a></li>\\n<li><a href=\"https://garypeppergirl.com/category/beauty\">Beauty</a></li>\\n<li><a href=\"https://garypeppergirl.com/category/design\">Design</a></li>\\n<li><a href=\"https://garypeppergirl.com/category/shopping\">Shopping</a></li>\\n<li><a href=\"https://garypeppergirl.com/category/personal\">Personal</a></li>\\n<li><a href=\"https://garypeppergirl.com/category/video\">Video</a></li>\\n</ul>\\n</li>\\n<li>\\n<a href=\"#open\" class=\"subparent\">Travel</a>\\n<ul>\\n<li><a href=\"https://garypeppergirl.com/category/australia\">australia</a></li>\\n<li><a href=\"https://garypeppergirl.com/category/china\">China</a></li>\\n<li><a href=\"https://garypeppergirl.com/category/croatia\">Croatia</a></li>\\n<li><a href=\"https://garypeppergirl.com/category/england\">England</a></li>\\n<li><a href=\"https://garypeppergirl.com/category/france-2\">France</a></li>\\n<li><a href=\"https://garypeppergirl.com/category/greece\">Greece</a></li>\\n<li><a href=\"https://garypeppergirl.com/category/hong-kong-2\">Hong Kong</a></li>\\n<li><a href=\"https://garypeppergirl.com/category/iceland-2\">Iceland</a></li>\\n<li><a href=\"https://garypeppergirl.com/category/italy-2\">Italy</a></li>\\n<li><a href=\"https://garypeppergirl.com/category/japan-2\">Japan</a></li>\\n<li><a href=\"https://garypeppergirl.com/category/maldives\">Maldives</a></li>\\n<li><a href=\"https://garypeppergirl.com/category/new-zealand-2\">New Zealand</a></li>\\n<li><a href=\"https://garypeppergirl.com/category/norway-2\">Norway</a></li>\\n<li><a href=\"https://garypeppergirl.com/category/singapore\">Singapore</a></li>\\n<li><a href=\"https://garypeppergirl.com/category/spain-2\">Spain</a></li>\\n<li><a href=\"https://garypeppergirl.com/category/switzerland\">Switzerland</a></li>\\n<li><a href=\"https://garypeppergirl.com/category/turkey\">Turkey</a></li>\\n<li><a href=\"https://garypeppergirl.com/category/united-arab-emirates\">UAE</a></li>\\n<li><a href=\"https://garypeppergirl.com/category/united-states\">United States</a></li>\\n</ul>\\n</li>\\n<li><a href=\"https://garypeppergirl.com/shop\">Shop</a></li>\\n<li><a href=\"https://garypeppergirl.com/about\">About</a></li>\\n<li><a href=\"https://garypeppergirl.com/about\">About</a></li>\\n<li><a href=\"https://garypeppergirl.com/outfits\">Outfits</a></li>\\n<li><a href=\"https://garypeppergirl.com/press/print-2\">Press</a></li>\\n<li><a href=\"https://garypeppergirl.com/contact\">Contact</a></li>\\n<li><a href=\"http://www.bloglovin.com/blog/3668940\" class=\"bloglovin\" target=\"_blank\">Bloglovin\\'</a></li>\\n<li><a href=\"https://instagram.com/garypeppergirl\" class=\"instagram\" target=\"_blank\">Instagram</a></li>\\n<li><a href=\"https://facebook.com/garypeppergirl\" class=\"facebook\" target=\"_blank\">Facebook</a></li>\\n<li><a href=\"https://twitter.com/garypeppergirl\" class=\"twitter\" target=\"_blank\">Twitter</a></li>\\n<li><a href=\"https://www.pinterest.com/garypeppergirl/\" class=\"pinterest\" target=\"_blank\">Pinterest</a></li>\\n<li><a href=\"https://youtube.com/user/garypeppervintage\" class=\"youtube\" target=\"_blank\">YouTube</a></li>\\n</ul>\\n</nav>\\n</div>\\n<div id=\"mobile-menu-toggle\">\\n<a href=\"#menu\">Mobile Menu</a>\\n</div>\\n<div id=\"social\">\\n<a href=\"http://bloglovin.com/blog/3668940\" target=\"_blank\"><i class=\"icon-heart\"></i></a>\\n<a href=\"https://instagram.com/garypeppergirl\" target=\"_blank\"><i class=\"icon-instagram\"></i></a>\\n<a href=\"https://facebook.com/garypeppergirl\" target=\"_blank\"><i class=\"icon-facebook\"></i></a>\\n<a href=\"https://twitter.com/garypeppergirl\" target=\"_blank\"><i class=\"icon-twitter\"></i></a>\\n<a href=\"https://pinterest.com/garypeppergirl/\" target=\"_blank\"><i class=\"icon-pinterest\"></i></a>\\n<a href=\"https://youtube.com/user/garypeppervintage\" target=\"_blank\"><i class=\"icon-youtube\"></i></a>\\n</div>\\n<div id=\"search\">\\n<a href=\"#\">Search</a>\\n<form method=\"get\" id=\"searchform\" action=\"https://garypeppergirl.com/\">\\n<input type=\"text\" class=\"field\" name=\"s\" id=\"s\" placeholder=\"SEARCH\" />\\n</form>\\n</div>\\n</div>\\n</div>\\n<div id=\"wrap\" class=\"outer\"> <div id=\"posts\" class=\"outer\">\\n<div class=\"outer post-outer grey\">\\n<div class=\"inner post\">\\n<div class=\"date\">\\n<span>28th May 2018</span>\\n</div>\\n<div class=\"title\">\\n<span><a href=\"https://garypeppergirl.com/2018/05/chanel-metiers-dart-in-hamburg\">Chanel Metiers d&#8217;Art in Hamburg</a></span>\\n</div>\\n<div class=\"category\">\\n<span>\\n<a href=\"https://garypeppergirl.com/category/travel\">Travel</a>,\\n<a href=\"https://garypeppergirl.com/category/germany\">Germany</a> </span>\\n</div>\\n</div>\\n</div>\\n<div class=\"outer\">\\n<div class=\"inner post\">\\n<div class=\"media\">\\n<a href=\"https://garypeppergirl.com/2018/05/chanel-metiers-dart-in-hamburg\"><img alt=\"Chanel Metiers d&#8217;Art in Hamburg\" srcset=\"http://garypeppergirl.com/wp-content/uploads/2018/05/Chanel-Metiers-dArt_Germany_Nicole-Warne-18-950x634.jpg, http://garypeppergirl.com/wp-content/uploads/2018/05/Chanel-Metiers-dArt_Germany_Nicole-Warne-18-950x634@2x.jpg 2x\" /></a>\\n</div>\\n<div class=\"location\">\\n<span class=\"marker\">Location</span>\\n<span class=\"text\">LOCATION: Hamburg</span>\\n</div>\\n<div class=\"summary\">\\n<p>If a runway show could feel like you were witnessing a poem being written in front of your eyes, this would be it.</p>\\n</div>\\n<div class=\"share\">\\n<div class=\"share-icons\">\\n<span>Share |</span>\\n<a href=\"https://www.facebook.com/sharer.php?u=http://garypeppergirl.com/2018/05/chanel-metiers-dart-in-hamburg&t=Gary Pepper Girl Chanel Metiers d&#8217;Art in Hamburg\" class=\"facebook\" target=\"_blank\">Facebook</a>\\n<a href=\"https://twitter.com/home?status=Chanel Metiers d&#8217;Art in Hamburg http://garypeppergirl.com/2018/05/chanel-metiers-dart-in-hamburg via @garypeppergirl\" title=\"Share on Twitter\" target=\"_blank\" class=\"twitter\">Twitter</a>\\n<a target=\"blank\" href=\"https://pinterest.com/pin/create/button/?url=http%3A%2F%2Fgarypeppergirl.com%2F2018%2F05%2Fchanel-metiers-dart-in-hamburg&media=http%3A%2F%2Fgarypeppergirl.com%2Fwp-content%2Fuploads%2F2018%2F05%2FChanel-Metiers-dArt_Germany_Nicole-Warne-18.jpg\" title=\"Pin This Post\" target=\"_blank\" class=\"pintrest\">Pintrest</a>\\n</div>\\n<div class=\"continue-reading\">\\n<div class=\"continue\">\\n<a href=\"https://garypeppergirl.com/2018/05/chanel-metiers-dart-in-hamburg\">Continue Reading</a>\\n</div>\\n</div>\\n<div class=\"comments\">\\n<span><a data-disqus-identifier=\"http://garypeppergirl.com/2018/05/chanel-metiers-dart-in-hamburg\" href=\"https://garypeppergirl.com/2018/05/chanel-metiers-dart-in-hamburg#disqus_thread\">Comments | 0</a></span>\\n</div>\\n</div>\\n</div>\\n</div>\\n<div class=\"outer post-outer grey\">\\n<div class=\"inner post\">\\n<div class=\"date\">\\n<span>29th May 2017</span>\\n</div>\\n<div class=\"title\">\\n<span><a href=\"https://garypeppergirl.com/2017/05/postcards-from-new-zealand\">Postcards from New Zealand</a></span>\\n</div>\\n<div class=\"category\">\\n<span>\\n<a href=\"https://garypeppergirl.com/category/travel\">Travel</a> </span>\\n</div>\\n</div>\\n</div>\\n<div class=\"outer\">\\n<div class=\"inner post\">\\n<div class=\"media\">\\n<a href=\"https://garypeppergirl.com/2017/05/postcards-from-new-zealand\"><img alt=\"Postcards from New Zealand\" srcset=\"http://garypeppergirl.com/wp-content/uploads/2017/04/Luke_Shadbolt-New_Zealand-07-950x634.jpg, http://garypeppergirl.com/wp-content/uploads/2017/04/Luke_Shadbolt-New_Zealand-07-950x634@2x.jpg 2x\" /></a>\\n</div>\\n<div class=\"location\">\\n<span class=\"marker\">Location</span>\\n<span class=\"text\">LOCATION: New Zealand</span>\\n</div>\\n<div class=\"summary\">\\n<p>It was raining the day we went which didn&#8217;t damper our spirits, it just made the island feel more mystic and alluring with low hanging clouds and a slight mist covering its hills. </p>\\n</div>\\n<div class=\"share\">\\n<div class=\"share-icons\">\\n<span>Share |</span>\\n<a href=\"https://www.facebook.com/sharer.php?u=http://garypeppergirl.com/2017/05/postcards-from-new-zealand&t=Gary Pepper Girl Postcards from New Zealand\" class=\"facebook\" target=\"_blank\">Facebook</a>\\n<a href=\"https://twitter.com/home?status=Postcards from New Zealand http://garypeppergirl.com/2017/05/postcards-from-new-zealand via @garypeppergirl\" title=\"Share on Twitter\" target=\"_blank\" class=\"twitter\">Twitter</a>\\n<a target=\"blank\" href=\"https://pinterest.com/pin/create/button/?url=http%3A%2F%2Fgarypeppergirl.com%2F2017%2F05%2Fpostcards-from-new-zealand&media=http%3A%2F%2Fgarypeppergirl.com%2Fwp-content%2Fuploads%2F2017%2F04%2FLuke_Shadbolt-New_Zealand-07.jpg\" title=\"Pin This Post\" target=\"_blank\" class=\"pintrest\">Pintrest</a>\\n</div>\\n<div class=\"continue-reading\">\\n<div class=\"continue\">\\n<a href=\"https://garypeppergirl.com/2017/05/postcards-from-new-zealand\">Continue Reading</a>\\n</div>\\n</div>\\n<div class=\"comments\">\\n<span><a data-disqus-identifier=\"http://garypeppergirl.com/2017/05/postcards-from-new-zealand\" href=\"https://garypeppergirl.com/2017/05/postcards-from-new-zealand#disqus_thread\">Comments | 0</a></span>\\n</div>\\n</div>\\n</div>\\n</div>\\n<div class=\"outer post-outer grey\">\\n<div class=\"inner post\">\\n<div class=\"date\">\\n<span>10th January 2017</span>\\n</div>\\n<div class=\"title\">\\n<span><a href=\"https://garypeppergirl.com/2017/01/seeing-hearts\">Seeing hearts</a></span>\\n</div>\\n<div class=\"category\">\\n<span>\\n<a href=\"https://garypeppergirl.com/category/travel\">Travel</a> </span>\\n</div>\\n</div>\\n</div>\\n<div class=\"outer\">\\n<div class=\"inner post\">\\n<div class=\"media\">\\n<a href=\"https://garypeppergirl.com/2017/01/seeing-hearts\"><img alt=\"Seeing hearts\" srcset=\"http://garypeppergirl.com/wp-content/uploads/2016/12/Nicole_Warne-Gary_Pepper_Girl-Santorini-03-950x634.jpg, http://garypeppergirl.com/wp-content/uploads/2016/12/Nicole_Warne-Gary_Pepper_Girl-Santorini-03-950x634@2x.jpg 2x\" /></a>\\n</div>\\n<div class=\"location\">\\n<span class=\"marker\">Location</span>\\n<span class=\"text\">LOCATION: Santorini</span>\\n</div>\\n<div class=\"summary\">\\n<p>&#8220;Take your broken heart, make it into art&#8221;.<br />\\n<div class=\"shopthepost-widget\" data-widget-id=\"2348379\">\\n<script type=\"text/javascript\" language=\"javascript\">\\r\\n                    !function(d,s,id){\\r\\n                        var e, p = /^http:/.test(d.location) ? \\'http\\' : \\'https\\';\\r\\n                        if(!d.getElementById(id)) {\\r\\n                            e     = d.createElement(s);\\r\\n                            e.id  = id;\\r\\n                            e.src = p + \\'://widgets.rewardstyle.com/js/shopthepost.js\\';\\r\\n                            d.body.appendChild(e);\\r\\n                        }\\r\\n                        if(typeof window.__stp === \\'object\\') if(d.readyState === \\'complete\\') {\\r\\n                            window.__stp.init();\\r\\n                        }\\r\\n                    }(document, \\'script\\', \\'shopthepost-script\\');\\r\\n                </script>\\n<div class=\"rs-adblock\">\\n<img src=\"//assets.rewardstyle.com/images/search/350.gif\" style=\"width:15px;height:15px;\" onerror=\"this.parentNode.innerHTML=\\'Turn off your ad blocker to view content\\'\" />\\n<noscript>Turn on your JavaScript to view content</noscript>\\n</div>\\n</div></p>\\n</div>\\n<div class=\"share\">\\n<div class=\"share-icons\">\\n<span>Share |</span>\\n<a href=\"https://www.facebook.com/sharer.php?u=http://garypeppergirl.com/2017/01/seeing-hearts&t=Gary Pepper Girl Seeing hearts\" class=\"facebook\" target=\"_blank\">Facebook</a>\\n<a href=\"https://twitter.com/home?status=Seeing hearts http://garypeppergirl.com/2017/01/seeing-hearts via @garypeppergirl\" title=\"Share on Twitter\" target=\"_blank\" class=\"twitter\">Twitter</a>\\n<a target=\"blank\" href=\"https://pinterest.com/pin/create/button/?url=http%3A%2F%2Fgarypeppergirl.com%2F2017%2F01%2Fseeing-hearts&media=http%3A%2F%2Fgarypeppergirl.com%2Fwp-content%2Fuploads%2F2016%2F12%2FNicole_Warne-Gary_Pepper_Girl-Santorini-03.jpg\" title=\"Pin This Post\" target=\"_blank\" class=\"pintrest\">Pintrest</a>\\n</div>\\n<div class=\"continue-reading\">\\n<div class=\"continue\">\\n<a href=\"https://garypeppergirl.com/2017/01/seeing-hearts\">Continue Reading</a>\\n</div>\\n</div>\\n<div class=\"comments\">\\n<span><a data-disqus-identifier=\"http://garypeppergirl.com/2017/01/seeing-hearts\" href=\"https://garypeppergirl.com/2017/01/seeing-hearts#disqus_thread\">Comments | 0</a></span>\\n</div>\\n</div>\\n</div>\\n</div>\\n<div class=\"outer post-outer grey\">\\n<div class=\"inner post\">\\n<div class=\"date\">\\n<span>1st June 2016</span>\\n</div>\\n<div class=\"title\">\\n<span><a href=\"https://garypeppergirl.com/2016/06/cannes-travel-diary\">Cannes Diary</a></span>\\n</div>\\n<div class=\"category\">\\n<span>\\n<a href=\"https://garypeppergirl.com/category/travel\">Travel</a> </span>\\n</div>\\n</div>\\n</div>\\n<div class=\"outer\">\\n<div class=\"inner post\">\\n<div class=\"media\">\\n<a href=\"https://garypeppergirl.com/2016/06/cannes-travel-diary\"><img alt=\"Cannes Diary\" srcset=\"http://garypeppergirl.com/wp-content/uploads/2016/05/Cannes-Film_festival-Nicole-Warne-25-950x1425.jpg, http://garypeppergirl.com/wp-content/uploads/2016/05/Cannes-Film_festival-Nicole-Warne-25-950x1425@2x.jpg 2x\" /></a>\\n</div>\\n<div class=\"location\">\\n<span class=\"marker\">Location</span>\\n<span class=\"text\">LOCATION: Cannes</span>\\n</div>\\n<div class=\"summary\">\\n<p>I spent five wonderful days in Cannes with my team.</p>\\n</div>\\n<div class=\"share\">\\n<div class=\"share-icons\">\\n<span>Share |</span>\\n<a href=\"https://www.facebook.com/sharer.php?u=http://garypeppergirl.com/2016/06/cannes-travel-diary&t=Gary Pepper Girl Cannes Diary\" class=\"facebook\" target=\"_blank\">Facebook</a>\\n<a href=\"https://twitter.com/home?status=Cannes Diary http://garypeppergirl.com/2016/06/cannes-travel-diary via @garypeppergirl\" title=\"Share on Twitter\" target=\"_blank\" class=\"twitter\">Twitter</a>\\n<a target=\"blank\" href=\"https://pinterest.com/pin/create/button/?url=http%3A%2F%2Fgarypeppergirl.com%2F2016%2F06%2Fcannes-travel-diary&media=http%3A%2F%2Fgarypeppergirl.com%2Fwp-content%2Fuploads%2F2016%2F05%2FCannes-Film_festival-Nicole-Warne-25.jpg\" title=\"Pin This Post\" target=\"_blank\" class=\"pintrest\">Pintrest</a>\\n</div>\\n<div class=\"continue-reading\">\\n<div class=\"continue\">\\n<a href=\"https://garypeppergirl.com/2016/06/cannes-travel-diary\">Continue Reading</a>\\n</div>\\n</div>\\n<div class=\"comments\">\\n<span><a data-disqus-identifier=\"http://garypeppergirl.com/2016/06/cannes-travel-diary\" href=\"https://garypeppergirl.com/2016/06/cannes-travel-diary#disqus_thread\">Comments | 0</a></span>\\n</div>\\n</div>\\n</div>\\n</div>\\n<div class=\"outer post-outer grey\">\\n<div class=\"inner post\">\\n<div class=\"date\">\\n<span>30th May 2016</span>\\n</div>\\n<div class=\"title\">\\n<span><a href=\"https://garypeppergirl.com/2016/05/checking-in-from-cannes\">Checking-in from Cannes</a></span>\\n</div>\\n<div class=\"category\">\\n<span>\\n<a href=\"https://garypeppergirl.com/category/travel\">Travel</a> </span>\\n</div>\\n</div>\\n</div>\\n<div class=\"outer\">\\n<div class=\"inner post\">\\n<div class=\"media\">\\n<a href=\"https://garypeppergirl.com/2016/05/checking-in-from-cannes\"><img alt=\"Checking-in from Cannes\" srcset=\"http://garypeppergirl.com/wp-content/uploads/2016/05/Cannes-Film_festival-Nicole-Warne-37-950x1425.jpg, http://garypeppergirl.com/wp-content/uploads/2016/05/Cannes-Film_festival-Nicole-Warne-37-950x1425@2x.jpg 2x\" /></a>\\n</div>\\n<div class=\"location\">\\n<span class=\"marker\">Location</span>\\n<span class=\"text\">LOCATION: Cannes</span>\\n</div>\\n<div class=\"summary\">\\n<p>This was my second year in Cannes for the Cannes Film Festival and it was an absolute pleasure to attend as a special guest of Chopard.</p>\\n</div>\\n<div class=\"share\">\\n<div class=\"share-icons\">\\n<span>Share |</span>\\n<a href=\"https://www.facebook.com/sharer.php?u=http://garypeppergirl.com/2016/05/checking-in-from-cannes&t=Gary Pepper Girl Checking-in from Cannes\" class=\"facebook\" target=\"_blank\">Facebook</a>\\n<a href=\"https://twitter.com/home?status=Checking-in from Cannes http://garypeppergirl.com/2016/05/checking-in-from-cannes via @garypeppergirl\" title=\"Share on Twitter\" target=\"_blank\" class=\"twitter\">Twitter</a>\\n<a target=\"blank\" href=\"https://pinterest.com/pin/create/button/?url=http%3A%2F%2Fgarypeppergirl.com%2F2016%2F05%2Fchecking-in-from-cannes&media=http%3A%2F%2Fgarypeppergirl.com%2Fwp-content%2Fuploads%2F2016%2F05%2FCannes-Film_festival-Nicole-Warne-37.jpg\" title=\"Pin This Post\" target=\"_blank\" class=\"pintrest\">Pintrest</a>\\n</div>\\n<div class=\"continue-reading\">\\n<div class=\"continue\">\\n<a href=\"https://garypeppergirl.com/2016/05/checking-in-from-cannes\">Continue Reading</a>\\n</div>\\n</div>\\n<div class=\"comments\">\\n<span><a data-disqus-identifier=\"http://garypeppergirl.com/2016/05/checking-in-from-cannes\" href=\"https://garypeppergirl.com/2016/05/checking-in-from-cannes#disqus_thread\">Comments | 0</a></span>\\n</div>\\n</div>\\n</div>\\n</div>\\n</div>\\n<div class=\"outer white\">\\n<div class=\"inner\">\\n<div class=\"pagination pagination-line\">\\n<div class=\"pagination-alpha\"><span>&nbsp;</span></div><div class=\"pagination-beta\"><span>&nbsp;<a class=\"active\" href=\"https://garypeppergirl.com/category/travel\">1</a>\\n<a href=\"https://garypeppergirl.com/category/travel/page/2\">2</a>\\n<a href=\"https://garypeppergirl.com/category/travel/page/3\">3</a>\\n...\\n<a href=\"https://garypeppergirl.com/category/travel/page/24\">24</a>\\n</span></div><div class=\"pagination-gamma\"><span><a href=\"https://garypeppergirl.com/category/travel/page/2\">OLDER POSTS</a>\\n</span></div> </div>\\n</div>\\n</div>\\n<script type=\"text/javascript\">\\n              var disqus_shortname = \\'fellt-garypepper\\';\\n              (function () {\\n                var s = document.createElement(\\'script\\'); s.async = true;\\n                s.type = \\'text/javascript\\';\\n                s.src = \\'http://\\' + disqus_shortname + \\'.disqus.com/count.js\\';\\n                (document.getElementsByTagName(\\'HEAD\\')[0] || document.getElementsByTagName(\\'BODY\\')[0]).appendChild(s);\\n              }());\\n            </script>\\n<div id=\"footer\" class=\"outer\">\\n<div class=\"outer\" id=\"footer-social\">\\n<div class=\"inner\" id=\"footer-social-inner\">\\n<a href=\"http://www.bloglovin.com/blog/3668940\" class=\"bloglovin\" target=\"_blank\">BLOGLOVIN\\' | 189,622</a>\\n <a href=\"https://instagram.com/garypeppergirl\" class=\"instagram\" target=\"_blank\">INSTAGRAM | 1,723,545</a>\\n<a href=\"https://facebook.com/garypeppergirl\" class=\"facebook\" target=\"_blank\">FACEBOOK | 422,177</a>\\n<a href=\"https://twitter.com/garypeppergirl\" class=\"twitter\" target=\"_blank\">TWITTER | 37,900</a>\\n</div>\\n</div>\\n<div class=\"outer\" id=\"footer-about-navigation\">\\n<div class=\"inner\">\\n<div id=\"footer-copyright\">\\n<a href=\"https://garypeppergirl.com/\"><i class=\"icon-garypepper\"></i></a>\\n<p><em>&copy; 2015 Gary Pepper Group Pty Ltd</em></p>\\n</div>\\n<div id=\"footer-about\">\\n<p><em>Escape into the world of Gary Pepper, a realm of vivid colour and endless possibilities. A fashion, travel and lifestyle brand dedicated to capturing everyday beauty, from the simple to the serene. Life motto? The glass is always half full.</em></p>\\n</div>\\n<div id=\"footer-navigation\">\\n<ul>\\n<li><a href=\"https://garypeppergirl.com/shop\">Shop</a></li>\\n<li><a href=\"https://garypeppergirl.com/about\">About</a></li>\\n<li><a href=\"https://garypeppergirl.com/outfits\">Outfits</a></li>\\n<li><a href=\"https://garypeppergirl.com/press/print-2/\">Press</a></li>\\n<li><a href=\"https://garypeppergirl.com/archives\">Archives</a></li>\\n<li><a href=\"https://garypeppergirl.com/contact\">Contact</a></li>\\n</ul>\\n</div>\\n</div>\\n</div>\\n<div class=\"outer\" id=\"footer-instagram-title\">\\n<span><a href=\"https://instagram.com/garypeppergirl\" target=\"_blank\">THE @GARYPEPPERGIRL INSTAGRAM</a></span>\\n</div>\\n<div class=\"outer\" id=\"instagram\">\\n<div class=\"si_feed_widget\"><ul class=\"si_feed_list\"><li class=\"si_item\"><a href=\"https://www.instagram.com/p/BxkJnU-HgdB/\" target=\"_blank\"><div class=\"insta-details\"><p><span class=\"likes\">7,623</span><span class=\"comments\">60</span></p></div><img src=\"https://scontent.cdninstagram.com/vp/ef70757930d9c5b9d2b5d8f021e45b03/5D9CAB2B/t51.2885-15/sh0.08/e35/p640x640/58986776_671183336662336_1661970472258791170_n.jpg?_nc_ht=scontent.cdninstagram.com\"></a></li><li class=\"si_item\"><a href=\"https://www.instagram.com/p/Bxj92gEHFVN/\" target=\"_blank\"><div class=\"insta-details\"><p><span class=\"likes\">6,965</span><span class=\"comments\">47</span></p></div><img src=\"https://scontent.cdninstagram.com/vp/f98d7946531e94d3a0b9d99c9d70043f/5D9E02D1/t51.2885-15/sh0.08/e35/p640x640/58858165_163599481324137_786767637217302905_n.jpg?_nc_ht=scontent.cdninstagram.com\"></a></li><li class=\"si_item\"><a href=\"https://www.instagram.com/p/Bxi20AuHxul/\" target=\"_blank\"><div class=\"insta-details\"><p><span class=\"likes\">24,946</span><span class=\"comments\">155</span></p></div><img src=\"https://scontent.cdninstagram.com/vp/ed7bfb479f4f178ad85617b9ffa28cd9/5D9E5ED4/t51.2885-15/sh0.08/e35/p640x640/59723897_2262046377340229_7697001148450409307_n.jpg?_nc_ht=scontent.cdninstagram.com\"></a></li><li class=\"si_item\"><a href=\"https://www.instagram.com/p/BxhdNobnFsl/\" target=\"_blank\"><div class=\"insta-details\"><p><span class=\"likes\">18,397</span><span class=\"comments\">180</span></p></div><img src=\"https://scontent.cdninstagram.com/vp/a173ff1f1c95e4dc848a2bc264cefd9e/5D67AA8F/t51.2885-15/sh0.08/e35/p640x640/59888980_2849015111783044_7979033277397539943_n.jpg?_nc_ht=scontent.cdninstagram.com\"></a></li><li class=\"si_item\"><a href=\"https://www.instagram.com/p/Bxe7nrBHDvW/\" target=\"_blank\"><div class=\"insta-details\"><p><span class=\"likes\">11,128</span><span class=\"comments\">71</span></p></div><img src=\"https://scontent.cdninstagram.com/vp/f0cc1b14728a5a3558f4a74cd720d05a/5D5A8F77/t51.2885-15/sh0.08/e35/s640x640/58695756_178995973044660_7148765652066782307_n.jpg?_nc_ht=scontent.cdninstagram.com\"></a></li><li class=\"si_item\"><a href=\"https://www.instagram.com/p/BxcX3KanMHa/\" target=\"_blank\"><div class=\"insta-details\"><p><span class=\"likes\">18,661</span><span class=\"comments\">137</span></p></div><img src=\"https://scontent.cdninstagram.com/vp/874dd9151411d256660dbc390d75f5e5/5D596504/t51.2885-15/sh0.08/e35/p640x640/59823126_371125246871226_687500606279830822_n.jpg?_nc_ht=scontent.cdninstagram.com\"></a></li><li class=\"si_item\"><a href=\"https://www.instagram.com/p/Bxbcn3_lFsq/\" target=\"_blank\"><div class=\"insta-details\"><p><span class=\"likes\">6,288</span><span class=\"comments\">30</span></p></div><img src=\"https://scontent.cdninstagram.com/vp/77a37001b3b246df308ba6037980a1b5/5D64A388/t51.2885-15/sh0.08/e35/s640x640/60116612_1229534747215815_329893793639637485_n.jpg?_nc_ht=scontent.cdninstagram.com\"></a></li><li class=\"si_item\"><a href=\"https://www.instagram.com/p/BxZ5x-DlYnj/\" target=\"_blank\"><div class=\"insta-details\"><p><span class=\"likes\">34,648</span><span class=\"comments\">245</span></p></div><img src=\"https://scontent.cdninstagram.com/vp/1c449ed13b5f52c188aa5b4375ad26f2/5D70A07D/t51.2885-15/sh0.08/e35/p640x640/58787616_824219837936913_1359274038189915234_n.jpg?_nc_ht=scontent.cdninstagram.com\"></a></li><li class=\"si_item\"><a href=\"https://www.instagram.com/p/BxXdg-jFuBL/\" target=\"_blank\"><div class=\"insta-details\"><p><span class=\"likes\">15,685</span><span class=\"comments\">94</span></p></div><img src=\"https://scontent.cdninstagram.com/vp/8aa1a8203c50738d0889046f45766990/5D9E2DF4/t51.2885-15/sh0.08/e35/p640x640/60235006_1600577583407863_850513086704836539_n.jpg?_nc_ht=scontent.cdninstagram.com\"></a></li><li class=\"si_item\"><a href=\"https://www.instagram.com/p/BxSJh3iFtWy/\" target=\"_blank\"><div class=\"insta-details\"><p><span class=\"likes\">15,562</span><span class=\"comments\">140</span></p></div><img src=\"https://scontent.cdninstagram.com/vp/66378c63b7aafd4732f6b181ddbc0332/5D6E25BA/t51.2885-15/sh0.08/e35/p640x640/58831739_109227516853385_1953055363748709667_n.jpg?_nc_ht=scontent.cdninstagram.com\"></a></li><li class=\"si_item\"><a href=\"https://www.instagram.com/p/BxSAAvmFFh2/\" target=\"_blank\"><div class=\"insta-details\"><p><span class=\"likes\">11,425</span><span class=\"comments\">78</span></p></div><img src=\"https://scontent.cdninstagram.com/vp/842c1d919a5b35015337a54d2a05ba0e/5D9D377B/t51.2885-15/sh0.08/e35/p640x640/59473199_2242210106089092_3791779890551460468_n.jpg?_nc_ht=scontent.cdninstagram.com\"></a></li><li class=\"si_item\"><a href=\"https://www.instagram.com/p/BxQYlp1FJj_/\" target=\"_blank\"><div class=\"insta-details\"><p><span class=\"likes\">1,439</span><span class=\"comments\">13</span></p></div><img src=\"https://scontent.cdninstagram.com/vp/fecaeec5624863d92f05924a88b312e6/5CE1B5A5/t51.2885-15/sh0.08/e35/p640x640/58698698_118831092653539_4965467596825324591_n.jpg?_nc_ht=scontent.cdninstagram.com\"></a></li><li class=\"si_item\"><a href=\"https://www.instagram.com/p/BxOAmfKlLf_/\" target=\"_blank\"><div class=\"insta-details\"><p><span class=\"likes\">12,328</span><span class=\"comments\">103</span></p></div><img src=\"https://scontent.cdninstagram.com/vp/97a2d5683f9dd3f25d2ba206fa6b228d/5D55A357/t51.2885-15/sh0.08/e35/p640x640/59695593_2369573906595638_3285813269176457006_n.jpg?_nc_ht=scontent.cdninstagram.com\"></a></li><li class=\"si_item\"><a href=\"https://www.instagram.com/p/BxKTwyqlW0q/\" target=\"_blank\"><div class=\"insta-details\"><p><span class=\"likes\">9,375</span><span class=\"comments\">62</span></p></div><img src=\"https://scontent.cdninstagram.com/vp/0cef086d9e330a30828c0016ab7a73eb/5D618F29/t51.2885-15/sh0.08/e35/p640x640/57572896_603111373508098_1716684432157147015_n.jpg?_nc_ht=scontent.cdninstagram.com\"></a></li><li class=\"si_item\"><a href=\"https://www.instagram.com/p/BxHyiblFDNj/\" target=\"_blank\"><div class=\"insta-details\"><p><span class=\"likes\">7,200</span><span class=\"comments\">37</span></p></div><img src=\"https://scontent.cdninstagram.com/vp/d7b80af01074da73d3ff059b987c6134/5D705DCB/t51.2885-15/sh0.08/e35/p640x640/57430345_648972485547328_7873578660242990252_n.jpg?_nc_ht=scontent.cdninstagram.com\"></a></li><li class=\"si_item\"><a href=\"https://www.instagram.com/p/BxCnk-3llbB/\" target=\"_blank\"><div class=\"insta-details\"><p><span class=\"likes\">10,160</span><span class=\"comments\">92</span></p></div><img src=\"https://scontent.cdninstagram.com/vp/06932dd09bc33914925cbb75350cd0fb/5D9B2F1F/t51.2885-15/sh0.08/e35/p640x640/57368935_2430718277184375_4077367861242578314_n.jpg?_nc_ht=scontent.cdninstagram.com\"></a></li><li class=\"si_item\"><a href=\"https://www.instagram.com/p/BxAhFJ3FFEo/\" target=\"_blank\"><div class=\"insta-details\"><p><span class=\"likes\">15,703</span><span class=\"comments\">97</span></p></div><img src=\"https://scontent.cdninstagram.com/vp/7076d68400e681bf5b6045eb5fb0b561/5D6055C8/t51.2885-15/sh0.08/e35/p640x640/59651613_845439972458575_2643744556099831090_n.jpg?_nc_ht=scontent.cdninstagram.com\"></a></li><li class=\"si_item\"><a href=\"https://www.instagram.com/p/Bw__kYmlsnJ/\" target=\"_blank\"><div class=\"insta-details\"><p><span class=\"likes\">5,035</span><span class=\"comments\">40</span></p></div><img src=\"https://scontent.cdninstagram.com/vp/bd907c2f096afad70366bf912912cef8/5CE1D62E/t51.2885-15/sh0.08/e35/p640x640/57577130_456680841744037_8459357326882147130_n.jpg?_nc_ht=scontent.cdninstagram.com\"></a></li><li class=\"si_item\"><a href=\"https://www.instagram.com/p/Bw_X1VOlbxM/\" target=\"_blank\"><div class=\"insta-details\"><p><span class=\"likes\">8,127</span><span class=\"comments\">27</span></p></div><img src=\"https://scontent.cdninstagram.com/vp/c9dba413013491933feae1384beb00a3/5D7B4370/t51.2885-15/sh0.08/e35/p640x640/59503087_636134620125273_303096541242114517_n.jpg?_nc_ht=scontent.cdninstagram.com\"></a></li><li class=\"si_item\"><a href=\"https://www.instagram.com/p/Bw-f6PZlnWf/\" target=\"_blank\"><div class=\"insta-details\"><p><span class=\"likes\">14,689</span><span class=\"comments\">95</span></p></div><img src=\"https://scontent.cdninstagram.com/vp/04852f36013cd8ebbcb42c6feed2854e/5D7A13CF/t51.2885-15/sh0.08/e35/p640x640/58004201_414195452733979_3716565551608855388_n.jpg?_nc_ht=scontent.cdninstagram.com\"></a></li></ul></div> </div> </div>\\n</div>\\n<script type=\"text/javascript\" src=\"//s7.addthis.com/js/300/addthis_widget.js#pubid=xa-51a53cd32dbf2f12&async=1\"></script>\\n<script src=\"//ajax.googleapis.com/ajax/libs/jquery/1.9.1/jquery.min.js\"></script>\\n<script src=\"https://garypeppergirl.com/wp-content/themes/garypepper/js/plugins.js\"></script>\\n<script src=\"https://garypeppergirl.com/wp-content/themes/garypepper/js/jquery.validate.min.js\"></script>\\n<script src=\"https://garypeppergirl.com/wp-content/themes/garypepper/js/jquery.hoverIntent.js\"></script>\\n<script src=\"https://garypeppergirl.com/wp-content/themes/garypepper/js/jquery.fancybox.pack.js\"></script>\\n<script src=\"https://garypeppergirl.com/wp-content/themes/garypepper/js/main.js\"></script>\\n<script type=\"text/javascript\">\\n          var _gauges = _gauges || [];\\n          (function() {\\n            var t   = document.createElement(\\'script\\');\\n            t.type  = \\'text/javascript\\';\\n            t.async = true;\\n            t.id    = \\'gauges-tracker\\';\\n            t.setAttribute(\\'data-site-id\\', \\'4ea7f80cf5a1f542f5000003\\');\\n            t.src = \\'//secure.gaug.es/track.js\\';\\n            var s = document.getElementsByTagName(\\'script\\')[0];\\n            s.parentNode.insertBefore(t, s);\\n          })();\\n        </script>\\n<script>\\n          (function(i,s,o,g,r,a,m){i[\\'GoogleAnalyticsObject\\']=r;i[r]=i[r]||function(){\\n          (i[r].q=i[r].q||[]).push(arguments)},i[r].l=1*new Date();a=s.createElement(o),\\n          m=s.getElementsByTagName(o)[0];a.async=1;a.src=g;m.parentNode.insertBefore(a,m)\\n          })(window,document,\\'script\\',\\'//www.google-analytics.com/analytics.js\\',\\'ga\\');\\n          ga(\\'create\\', \\'UA-43019092-1\\', \\'garypeppergirl.com\\');\\n          ga(\\'send\\', \\'pageview\\');\\n        </script>\\n<script type=\"text/javascript\">// <![CDATA[\\n\\t\\t\\tif( window.devicePixelRatio !== undefined ) document.cookie = \\'devicePixelRatio = \\' + window.devicePixelRatio;\\n\\t\\t// ]]></script>\\n<script type=\\'text/javascript\\' src=\"https://garypeppergirl.com/wp-includes/js/wp-embed.min.js?ver=4.5.17\"></script>\\n</body>\\n</html>\\n'\n"
     ]
    }
   ],
   "source": [
    "#store the page content from requests to a variable\n",
    "src = scraping.content\n",
    "print(src)"
   ]
  },
  {
   "cell_type": "code",
   "execution_count": 403,
   "metadata": {},
   "outputs": [],
   "source": [
    "#Now that we have the page source stored \n",
    "#we can use the BeautifulSoup module to parse the source\n",
    "#Pass the src variable into BeautifulSoup class crating a \"soup\" object\n",
    "soup = BeautifulSoup(scr, 'lxml')"
   ]
  },
  {
   "cell_type": "code",
   "execution_count": 404,
   "metadata": {},
   "outputs": [
    {
     "name": "stdout",
     "output_type": "stream",
     "text": [
      "[<a class=\"gb1\" href=\"https://www.google.fr/imghp?hl=fr&amp;tab=wi\">Images</a>, <a class=\"gb1\" href=\"https://maps.google.fr/maps?hl=fr&amp;tab=wl\">Maps</a>, <a class=\"gb1\" href=\"https://play.google.com/?hl=fr&amp;tab=w8\">Play</a>, <a class=\"gb1\" href=\"https://www.youtube.com/?gl=FR&amp;tab=w1\">YouTube</a>, <a class=\"gb1\" href=\"https://news.google.fr/nwshp?hl=fr&amp;tab=wn\">Actualités</a>, <a class=\"gb1\" href=\"https://mail.google.com/mail/?tab=wm\">Gmail</a>, <a class=\"gb1\" href=\"https://drive.google.com/?tab=wo\">Drive</a>, <a class=\"gb1\" href=\"https://www.google.fr/intl/fr/about/products?tab=wh\" style=\"text-decoration:none\"><u>Plus</u> »</a>, <a class=\"gb4\" href=\"http://www.google.fr/history/optout?hl=fr\">Historique Web</a>, <a class=\"gb4\" href=\"/preferences?hl=fr\">Paramètres</a>, <a class=\"gb4\" href=\"https://accounts.google.com/ServiceLogin?hl=fr&amp;passive=true&amp;continue=https://www.google.com/\" id=\"gb_70\" target=\"_top\">Connexion</a>, <a href=\"/advanced_search?hl=fr&amp;authuser=0\">Recherche avancée</a>, <a class=\"NKcBbd\" href=\"https://www.google.com/url?q=https://myactivity.google.com/myactivity%3Frestrict%3Dwaa%26utm_source%3Dgoogle%26utm_medium%3Dhpp%26utm_campaign%3Dauto-delete-waa-june2020&amp;source=hpp&amp;id=19018401&amp;ct=3&amp;usg=AFQjCNHzo9Zq16QKY0dj1vzV_QDalAgziA&amp;sa=X&amp;ved=0ahUKEwiXt7-ovprqAhWSxIUKHeWmDdwQ8IcBCAU\" rel=\"nofollow\">suppression automatique</a>, <a href=\"/intl/fr/ads/\">Solutions publicitaires</a>, <a href=\"/services/\">Solutions d'entreprise</a>, <a href=\"/intl/fr/about.html\">À propos de Google</a>, <a href=\"https://www.google.com/setprefdomain?prefdom=FR&amp;prev=https://www.google.fr/&amp;sig=K_PwRc_2Lh1ZIj-aTQObqEr7rOJ1g%3D\">Google.fr</a>, <a href=\"/intl/fr/policies/privacy/\">Confidentialité</a>, <a href=\"/intl/fr/policies/terms/\">Conditions</a>]\n"
     ]
    }
   ],
   "source": [
    "#Now we can ask the soup object: give me all the links on that page\n",
    "links= soup.find_all(\"a\")\n",
    "print(links)\n"
   ]
  },
  {
   "cell_type": "code",
   "execution_count": 406,
   "metadata": {},
   "outputs": [
    {
     "name": "stdout",
     "output_type": "stream",
     "text": [
      "['https://www.google.fr/imghp?hl=fr&tab=wi', 'https://maps.google.fr/maps?hl=fr&tab=wl', 'https://play.google.com/?hl=fr&tab=w8', 'https://www.youtube.com/?gl=FR&tab=w1', 'https://news.google.fr/nwshp?hl=fr&tab=wn', 'https://mail.google.com/mail/?tab=wm', 'https://drive.google.com/?tab=wo', 'https://www.google.fr/intl/fr/about/products?tab=wh', 'http://www.google.fr/history/optout?hl=fr', '/preferences?hl=fr', 'https://accounts.google.com/ServiceLogin?hl=fr&passive=true&continue=https://www.google.com/', '/advanced_search?hl=fr&authuser=0', 'https://www.google.com/url?q=https://myactivity.google.com/myactivity%3Frestrict%3Dwaa%26utm_source%3Dgoogle%26utm_medium%3Dhpp%26utm_campaign%3Dauto-delete-waa-june2020&source=hpp&id=19018401&ct=3&usg=AFQjCNHzo9Zq16QKY0dj1vzV_QDalAgziA&sa=X&ved=0ahUKEwiXt7-ovprqAhWSxIUKHeWmDdwQ8IcBCAU', '/intl/fr/ads/', '/services/', '/intl/fr/about.html', 'https://www.google.com/setprefdomain?prefdom=FR&prev=https://www.google.fr/&sig=K_PwRc_2Lh1ZIj-aTQObqEr7rOJ1g%3D', '/intl/fr/policies/privacy/', '/intl/fr/policies/terms/']\n"
     ]
    }
   ],
   "source": [
    "url = 'https://garypeppergirl.com/category/travel'\n",
    "response = requests.get(url)\n",
    "links = soup.find_all('a')\n",
    "liens=[]\n",
    "\n",
    "for link in links:\n",
    "    liens.append(link.get('href'))\n",
    "print(liens)"
   ]
  },
  {
   "cell_type": "code",
   "execution_count": 386,
   "metadata": {},
   "outputs": [],
   "source": [
    "# Create a list called URLs for the links we want\n",
    "div_tag = soup.find_all(\"div\", {\"class\": \"continue\"})\n",
    "\n",
    "\n",
    "for tag in div_tag:\n",
    "    a_tag = tag.find('a')\n",
    "    for tag in a_tag:\n",
    "        print(tag.text)\n",
    "\n"
   ]
  },
  {
   "cell_type": "code",
   "execution_count": 397,
   "metadata": {},
   "outputs": [
    {
     "name": "stdout",
     "output_type": "stream",
     "text": [
      "['/intl/fr/policies/terms/', '/intl/fr/policies/terms/', '/intl/fr/policies/terms/', '/intl/fr/policies/terms/']\n"
     ]
    }
   ],
   "source": [
    "# Create a list called URLs for the links we want\n",
    "div_tag = soup.find_all(\"div\", {\"class\": \"continue-reading\"})\n",
    "\n",
    "\n",
    "for tag in div_tag:\n",
    "    div_tag2 = tag.find_all(\"div\", {\"class\": \"continue\"})\n",
    "    for tag in div_tag2:\n",
    "        a_tag= tag.find_all('a')\n",
    "        #print(tag.text)\n",
    "\n",
    "URLs.append(a_tag.attrs['href']) \n",
    "print(URLs)"
   ]
  },
  {
   "cell_type": "code",
   "execution_count": 392,
   "metadata": {},
   "outputs": [
    {
     "name": "stdout",
     "output_type": "stream",
     "text": [
      "[]\n"
     ]
    }
   ],
   "source": [
    "# Create a list called URLs for the links we want\n",
    "\n",
    "URLs = []\n",
    "for tag in div_tag2:\n",
    "    a_tag= tag.find_all('a')\n",
    "    #print(a_tag.text)\n",
    "       \n",
    "    URLs.append(a_tag.attrs['href']) \n",
    "print(URLs)"
   ]
  },
  {
   "cell_type": "code",
   "execution_count": 393,
   "metadata": {},
   "outputs": [
    {
     "name": "stdout",
     "output_type": "stream",
     "text": [
      "['/intl/fr/policies/terms/']\n"
     ]
    }
   ],
   "source": [
    "URLs = []\n",
    "URLs.append(a_tag.attrs['href']) \n",
    "print(URLs)"
   ]
  },
  {
   "cell_type": "markdown",
   "metadata": {},
   "source": [
    "## Specific type of links\n",
    "with specific words"
   ]
  },
  {
   "cell_type": "code",
   "execution_count": 148,
   "metadata": {},
   "outputs": [],
   "source": [
    "# If I am only looking for links containing a particular word:\n",
    "for link in links:\n",
    "    if \"Continue reading\" in link.text:\n",
    "        print(link)\n",
    "        print(link.attrs['href'])"
   ]
  },
  {
   "cell_type": "code",
   "execution_count": 101,
   "metadata": {},
   "outputs": [
    {
     "name": "stdout",
     "output_type": "stream",
     "text": [
      "<a href=\"/intl/fr/policies/terms/\">Conditions</a>\n"
     ]
    }
   ],
   "source": [
    "print(link)"
   ]
  },
  {
   "cell_type": "code",
   "execution_count": 141,
   "metadata": {},
   "outputs": [
    {
     "name": "stdout",
     "output_type": "stream",
     "text": [
      "/intl/fr/policies/terms/\n"
     ]
    }
   ],
   "source": [
    "print(link.attrs['href'])"
   ]
  },
  {
   "cell_type": "code",
   "execution_count": null,
   "metadata": {},
   "outputs": [],
   "source": []
  }
 ],
 "metadata": {
  "kernelspec": {
   "display_name": "Python 3",
   "language": "python",
   "name": "python3"
  },
  "language_info": {
   "codemirror_mode": {
    "name": "ipython",
    "version": 3
   },
   "file_extension": ".py",
   "mimetype": "text/x-python",
   "name": "python",
   "nbconvert_exporter": "python",
   "pygments_lexer": "ipython3",
   "version": "3.7.4"
  }
 },
 "nbformat": 4,
 "nbformat_minor": 2
}
